{
  "cells": [
    {
      "cell_type": "markdown",
      "id": "00a7fd99",
      "metadata": {
        "id": "00a7fd99"
      },
      "source": [
        "# Projet Data Science - Analyse de la consommation énergétique à Tétouan\n",
        "\n",
        "Ce notebook présente l'analyse complète réalisée sur les données de consommation énergétique de la ville de Tétouan (Maroc), incluant l'analyse descriptive, la PCA, la régression linéaire simple et multiple, ainsi qu'une prédiction finale."
      ]
    },
    {
      "cell_type": "markdown",
      "id": "8327b939",
      "metadata": {
        "id": "8327b939"
      },
      "source": [
        "## 1. Chargement des données"
      ]
    },
    {
      "cell_type": "code",
      "execution_count": null,
      "id": "58d5faaa",
      "metadata": {
        "id": "58d5faaa"
      },
      "outputs": [],
      "source": [
        "import pandas as pd\n",
        "import numpy as np\n",
        "\n",
        "# Charger les données\n",
        "df = pd.read_csv('Tetouan-PC.csv')\n",
        "df.head()"
      ]
    },
    {
      "cell_type": "markdown",
      "id": "d2a4768c",
      "metadata": {
        "id": "d2a4768c"
      },
      "source": [
        "## 2. Analyse descriptive"
      ]
    },
    {
      "cell_type": "code",
      "execution_count": 42,
      "id": "ab0895b5",
      "metadata": {
        "colab": {
          "base_uri": "https://localhost:8080/",
          "height": 320
        },
        "id": "ab0895b5",
        "outputId": "aaa6d9a8-e4ea-4ec7-a692-f94da77f8602"
      },
      "outputs": [
        {
          "output_type": "execute_result",
          "data": {
            "text/plain": [
              "        Temperature      Humidity     WindSpeed  GenDiffFlows     DiffFlows  \\\n",
              "count  13248.000000  13248.000000  13248.000000  13248.000000  13248.000000   \n",
              "mean      25.353431     63.239117      4.000284    254.436238     68.161448   \n",
              "std        3.687087     18.150509      1.857605    310.646997     91.721217   \n",
              "min       13.990000     11.340000      0.050000      0.018000      0.019000   \n",
              "25%       22.750000     50.260000      4.904000      0.088000      0.122000   \n",
              "50%       25.140000     65.050000      4.910000     61.540000     35.030000   \n",
              "75%       27.430000     78.300000      4.919000    526.100000    100.200000   \n",
              "max       40.010000     93.800000      4.998000    978.000000    558.700000   \n",
              "\n",
              "            PCZone1       PCZone2       PCZone3  \n",
              "count  13248.000000  13248.000000  13248.000000  \n",
              "mean   35272.400777  22976.430993  23544.040816  \n",
              "std     7073.784592   5239.586748   7667.598488  \n",
              "min    18283.684790  10624.116420   8189.908069  \n",
              "25%    29432.896780  18866.737060  17001.338912  \n",
              "50%    35604.955750  22900.105600  23051.926500  \n",
              "75%    40238.628617  27002.361105  28540.920500  \n",
              "max    52204.395120  37408.860760  47598.326360  "
            ],
            "text/html": [
              "\n",
              "  <div id=\"df-ff7f2fb9-e06b-4364-9beb-f5915e4bec18\" class=\"colab-df-container\">\n",
              "    <div>\n",
              "<style scoped>\n",
              "    .dataframe tbody tr th:only-of-type {\n",
              "        vertical-align: middle;\n",
              "    }\n",
              "\n",
              "    .dataframe tbody tr th {\n",
              "        vertical-align: top;\n",
              "    }\n",
              "\n",
              "    .dataframe thead th {\n",
              "        text-align: right;\n",
              "    }\n",
              "</style>\n",
              "<table border=\"1\" class=\"dataframe\">\n",
              "  <thead>\n",
              "    <tr style=\"text-align: right;\">\n",
              "      <th></th>\n",
              "      <th>Temperature</th>\n",
              "      <th>Humidity</th>\n",
              "      <th>WindSpeed</th>\n",
              "      <th>GenDiffFlows</th>\n",
              "      <th>DiffFlows</th>\n",
              "      <th>PCZone1</th>\n",
              "      <th>PCZone2</th>\n",
              "      <th>PCZone3</th>\n",
              "    </tr>\n",
              "  </thead>\n",
              "  <tbody>\n",
              "    <tr>\n",
              "      <th>count</th>\n",
              "      <td>13248.000000</td>\n",
              "      <td>13248.000000</td>\n",
              "      <td>13248.000000</td>\n",
              "      <td>13248.000000</td>\n",
              "      <td>13248.000000</td>\n",
              "      <td>13248.000000</td>\n",
              "      <td>13248.000000</td>\n",
              "      <td>13248.000000</td>\n",
              "    </tr>\n",
              "    <tr>\n",
              "      <th>mean</th>\n",
              "      <td>25.353431</td>\n",
              "      <td>63.239117</td>\n",
              "      <td>4.000284</td>\n",
              "      <td>254.436238</td>\n",
              "      <td>68.161448</td>\n",
              "      <td>35272.400777</td>\n",
              "      <td>22976.430993</td>\n",
              "      <td>23544.040816</td>\n",
              "    </tr>\n",
              "    <tr>\n",
              "      <th>std</th>\n",
              "      <td>3.687087</td>\n",
              "      <td>18.150509</td>\n",
              "      <td>1.857605</td>\n",
              "      <td>310.646997</td>\n",
              "      <td>91.721217</td>\n",
              "      <td>7073.784592</td>\n",
              "      <td>5239.586748</td>\n",
              "      <td>7667.598488</td>\n",
              "    </tr>\n",
              "    <tr>\n",
              "      <th>min</th>\n",
              "      <td>13.990000</td>\n",
              "      <td>11.340000</td>\n",
              "      <td>0.050000</td>\n",
              "      <td>0.018000</td>\n",
              "      <td>0.019000</td>\n",
              "      <td>18283.684790</td>\n",
              "      <td>10624.116420</td>\n",
              "      <td>8189.908069</td>\n",
              "    </tr>\n",
              "    <tr>\n",
              "      <th>25%</th>\n",
              "      <td>22.750000</td>\n",
              "      <td>50.260000</td>\n",
              "      <td>4.904000</td>\n",
              "      <td>0.088000</td>\n",
              "      <td>0.122000</td>\n",
              "      <td>29432.896780</td>\n",
              "      <td>18866.737060</td>\n",
              "      <td>17001.338912</td>\n",
              "    </tr>\n",
              "    <tr>\n",
              "      <th>50%</th>\n",
              "      <td>25.140000</td>\n",
              "      <td>65.050000</td>\n",
              "      <td>4.910000</td>\n",
              "      <td>61.540000</td>\n",
              "      <td>35.030000</td>\n",
              "      <td>35604.955750</td>\n",
              "      <td>22900.105600</td>\n",
              "      <td>23051.926500</td>\n",
              "    </tr>\n",
              "    <tr>\n",
              "      <th>75%</th>\n",
              "      <td>27.430000</td>\n",
              "      <td>78.300000</td>\n",
              "      <td>4.919000</td>\n",
              "      <td>526.100000</td>\n",
              "      <td>100.200000</td>\n",
              "      <td>40238.628617</td>\n",
              "      <td>27002.361105</td>\n",
              "      <td>28540.920500</td>\n",
              "    </tr>\n",
              "    <tr>\n",
              "      <th>max</th>\n",
              "      <td>40.010000</td>\n",
              "      <td>93.800000</td>\n",
              "      <td>4.998000</td>\n",
              "      <td>978.000000</td>\n",
              "      <td>558.700000</td>\n",
              "      <td>52204.395120</td>\n",
              "      <td>37408.860760</td>\n",
              "      <td>47598.326360</td>\n",
              "    </tr>\n",
              "  </tbody>\n",
              "</table>\n",
              "</div>\n",
              "    <div class=\"colab-df-buttons\">\n",
              "\n",
              "  <div class=\"colab-df-container\">\n",
              "    <button class=\"colab-df-convert\" onclick=\"convertToInteractive('df-ff7f2fb9-e06b-4364-9beb-f5915e4bec18')\"\n",
              "            title=\"Convert this dataframe to an interactive table.\"\n",
              "            style=\"display:none;\">\n",
              "\n",
              "  <svg xmlns=\"http://www.w3.org/2000/svg\" height=\"24px\" viewBox=\"0 -960 960 960\">\n",
              "    <path d=\"M120-120v-720h720v720H120Zm60-500h600v-160H180v160Zm220 220h160v-160H400v160Zm0 220h160v-160H400v160ZM180-400h160v-160H180v160Zm440 0h160v-160H620v160ZM180-180h160v-160H180v160Zm440 0h160v-160H620v160Z\"/>\n",
              "  </svg>\n",
              "    </button>\n",
              "\n",
              "  <style>\n",
              "    .colab-df-container {\n",
              "      display:flex;\n",
              "      gap: 12px;\n",
              "    }\n",
              "\n",
              "    .colab-df-convert {\n",
              "      background-color: #E8F0FE;\n",
              "      border: none;\n",
              "      border-radius: 50%;\n",
              "      cursor: pointer;\n",
              "      display: none;\n",
              "      fill: #1967D2;\n",
              "      height: 32px;\n",
              "      padding: 0 0 0 0;\n",
              "      width: 32px;\n",
              "    }\n",
              "\n",
              "    .colab-df-convert:hover {\n",
              "      background-color: #E2EBFA;\n",
              "      box-shadow: 0px 1px 2px rgba(60, 64, 67, 0.3), 0px 1px 3px 1px rgba(60, 64, 67, 0.15);\n",
              "      fill: #174EA6;\n",
              "    }\n",
              "\n",
              "    .colab-df-buttons div {\n",
              "      margin-bottom: 4px;\n",
              "    }\n",
              "\n",
              "    [theme=dark] .colab-df-convert {\n",
              "      background-color: #3B4455;\n",
              "      fill: #D2E3FC;\n",
              "    }\n",
              "\n",
              "    [theme=dark] .colab-df-convert:hover {\n",
              "      background-color: #434B5C;\n",
              "      box-shadow: 0px 1px 3px 1px rgba(0, 0, 0, 0.15);\n",
              "      filter: drop-shadow(0px 1px 2px rgba(0, 0, 0, 0.3));\n",
              "      fill: #FFFFFF;\n",
              "    }\n",
              "  </style>\n",
              "\n",
              "    <script>\n",
              "      const buttonEl =\n",
              "        document.querySelector('#df-ff7f2fb9-e06b-4364-9beb-f5915e4bec18 button.colab-df-convert');\n",
              "      buttonEl.style.display =\n",
              "        google.colab.kernel.accessAllowed ? 'block' : 'none';\n",
              "\n",
              "      async function convertToInteractive(key) {\n",
              "        const element = document.querySelector('#df-ff7f2fb9-e06b-4364-9beb-f5915e4bec18');\n",
              "        const dataTable =\n",
              "          await google.colab.kernel.invokeFunction('convertToInteractive',\n",
              "                                                    [key], {});\n",
              "        if (!dataTable) return;\n",
              "\n",
              "        const docLinkHtml = 'Like what you see? Visit the ' +\n",
              "          '<a target=\"_blank\" href=https://colab.research.google.com/notebooks/data_table.ipynb>data table notebook</a>'\n",
              "          + ' to learn more about interactive tables.';\n",
              "        element.innerHTML = '';\n",
              "        dataTable['output_type'] = 'display_data';\n",
              "        await google.colab.output.renderOutput(dataTable, element);\n",
              "        const docLink = document.createElement('div');\n",
              "        docLink.innerHTML = docLinkHtml;\n",
              "        element.appendChild(docLink);\n",
              "      }\n",
              "    </script>\n",
              "  </div>\n",
              "\n",
              "\n",
              "<div id=\"df-2e161611-4216-4350-b99f-e036c5ff947a\">\n",
              "  <button class=\"colab-df-quickchart\" onclick=\"quickchart('df-2e161611-4216-4350-b99f-e036c5ff947a')\"\n",
              "            title=\"Suggest charts\"\n",
              "            style=\"display:none;\">\n",
              "\n",
              "<svg xmlns=\"http://www.w3.org/2000/svg\" height=\"24px\"viewBox=\"0 0 24 24\"\n",
              "     width=\"24px\">\n",
              "    <g>\n",
              "        <path d=\"M19 3H5c-1.1 0-2 .9-2 2v14c0 1.1.9 2 2 2h14c1.1 0 2-.9 2-2V5c0-1.1-.9-2-2-2zM9 17H7v-7h2v7zm4 0h-2V7h2v10zm4 0h-2v-4h2v4z\"/>\n",
              "    </g>\n",
              "</svg>\n",
              "  </button>\n",
              "\n",
              "<style>\n",
              "  .colab-df-quickchart {\n",
              "      --bg-color: #E8F0FE;\n",
              "      --fill-color: #1967D2;\n",
              "      --hover-bg-color: #E2EBFA;\n",
              "      --hover-fill-color: #174EA6;\n",
              "      --disabled-fill-color: #AAA;\n",
              "      --disabled-bg-color: #DDD;\n",
              "  }\n",
              "\n",
              "  [theme=dark] .colab-df-quickchart {\n",
              "      --bg-color: #3B4455;\n",
              "      --fill-color: #D2E3FC;\n",
              "      --hover-bg-color: #434B5C;\n",
              "      --hover-fill-color: #FFFFFF;\n",
              "      --disabled-bg-color: #3B4455;\n",
              "      --disabled-fill-color: #666;\n",
              "  }\n",
              "\n",
              "  .colab-df-quickchart {\n",
              "    background-color: var(--bg-color);\n",
              "    border: none;\n",
              "    border-radius: 50%;\n",
              "    cursor: pointer;\n",
              "    display: none;\n",
              "    fill: var(--fill-color);\n",
              "    height: 32px;\n",
              "    padding: 0;\n",
              "    width: 32px;\n",
              "  }\n",
              "\n",
              "  .colab-df-quickchart:hover {\n",
              "    background-color: var(--hover-bg-color);\n",
              "    box-shadow: 0 1px 2px rgba(60, 64, 67, 0.3), 0 1px 3px 1px rgba(60, 64, 67, 0.15);\n",
              "    fill: var(--button-hover-fill-color);\n",
              "  }\n",
              "\n",
              "  .colab-df-quickchart-complete:disabled,\n",
              "  .colab-df-quickchart-complete:disabled:hover {\n",
              "    background-color: var(--disabled-bg-color);\n",
              "    fill: var(--disabled-fill-color);\n",
              "    box-shadow: none;\n",
              "  }\n",
              "\n",
              "  .colab-df-spinner {\n",
              "    border: 2px solid var(--fill-color);\n",
              "    border-color: transparent;\n",
              "    border-bottom-color: var(--fill-color);\n",
              "    animation:\n",
              "      spin 1s steps(1) infinite;\n",
              "  }\n",
              "\n",
              "  @keyframes spin {\n",
              "    0% {\n",
              "      border-color: transparent;\n",
              "      border-bottom-color: var(--fill-color);\n",
              "      border-left-color: var(--fill-color);\n",
              "    }\n",
              "    20% {\n",
              "      border-color: transparent;\n",
              "      border-left-color: var(--fill-color);\n",
              "      border-top-color: var(--fill-color);\n",
              "    }\n",
              "    30% {\n",
              "      border-color: transparent;\n",
              "      border-left-color: var(--fill-color);\n",
              "      border-top-color: var(--fill-color);\n",
              "      border-right-color: var(--fill-color);\n",
              "    }\n",
              "    40% {\n",
              "      border-color: transparent;\n",
              "      border-right-color: var(--fill-color);\n",
              "      border-top-color: var(--fill-color);\n",
              "    }\n",
              "    60% {\n",
              "      border-color: transparent;\n",
              "      border-right-color: var(--fill-color);\n",
              "    }\n",
              "    80% {\n",
              "      border-color: transparent;\n",
              "      border-right-color: var(--fill-color);\n",
              "      border-bottom-color: var(--fill-color);\n",
              "    }\n",
              "    90% {\n",
              "      border-color: transparent;\n",
              "      border-bottom-color: var(--fill-color);\n",
              "    }\n",
              "  }\n",
              "</style>\n",
              "\n",
              "  <script>\n",
              "    async function quickchart(key) {\n",
              "      const quickchartButtonEl =\n",
              "        document.querySelector('#' + key + ' button');\n",
              "      quickchartButtonEl.disabled = true;  // To prevent multiple clicks.\n",
              "      quickchartButtonEl.classList.add('colab-df-spinner');\n",
              "      try {\n",
              "        const charts = await google.colab.kernel.invokeFunction(\n",
              "            'suggestCharts', [key], {});\n",
              "      } catch (error) {\n",
              "        console.error('Error during call to suggestCharts:', error);\n",
              "      }\n",
              "      quickchartButtonEl.classList.remove('colab-df-spinner');\n",
              "      quickchartButtonEl.classList.add('colab-df-quickchart-complete');\n",
              "    }\n",
              "    (() => {\n",
              "      let quickchartButtonEl =\n",
              "        document.querySelector('#df-2e161611-4216-4350-b99f-e036c5ff947a button');\n",
              "      quickchartButtonEl.style.display =\n",
              "        google.colab.kernel.accessAllowed ? 'block' : 'none';\n",
              "    })();\n",
              "  </script>\n",
              "</div>\n",
              "\n",
              "    </div>\n",
              "  </div>\n"
            ],
            "application/vnd.google.colaboratory.intrinsic+json": {
              "type": "dataframe",
              "summary": "{\n  \"name\": \"df\",\n  \"rows\": 8,\n  \"fields\": [\n    {\n      \"column\": \"Temperature\",\n      \"properties\": {\n        \"dtype\": \"number\",\n        \"std\": 4675.8887024735295,\n        \"min\": 3.687086698099179,\n        \"max\": 13248.0,\n        \"num_unique_values\": 8,\n        \"samples\": [\n          25.353431461352656,\n          25.14,\n          13248.0\n        ],\n        \"semantic_type\": \"\",\n        \"description\": \"\"\n      }\n    },\n    {\n      \"column\": \"Humidity\",\n      \"properties\": {\n        \"dtype\": \"number\",\n        \"std\": 4664.759592882048,\n        \"min\": 11.34,\n        \"max\": 13248.0,\n        \"num_unique_values\": 8,\n        \"samples\": [\n          63.23911684782609,\n          65.05,\n          13248.0\n        ],\n        \"semantic_type\": \"\",\n        \"description\": \"\"\n      }\n    },\n    {\n      \"column\": \"WindSpeed\",\n      \"properties\": {\n        \"dtype\": \"number\",\n        \"std\": 4682.580708201427,\n        \"min\": 0.05,\n        \"max\": 13248.0,\n        \"num_unique_values\": 8,\n        \"samples\": [\n          4.00028381642512,\n          4.91,\n          13248.0\n        ],\n        \"semantic_type\": \"\",\n        \"description\": \"\"\n      }\n    },\n    {\n      \"column\": \"GenDiffFlows\",\n      \"properties\": {\n        \"dtype\": \"number\",\n        \"std\": 4587.9383350714725,\n        \"min\": 0.018,\n        \"max\": 13248.0,\n        \"num_unique_values\": 8,\n        \"samples\": [\n          254.43623799818843,\n          61.54,\n          13248.0\n        ],\n        \"semantic_type\": \"\",\n        \"description\": \"\"\n      }\n    },\n    {\n      \"column\": \"DiffFlows\",\n      \"properties\": {\n        \"dtype\": \"number\",\n        \"std\": 4644.31816409887,\n        \"min\": 0.019,\n        \"max\": 13248.0,\n        \"num_unique_values\": 8,\n        \"samples\": [\n          68.16144776570049,\n          35.03,\n          13248.0\n        ],\n        \"semantic_type\": \"\",\n        \"description\": \"\"\n      }\n    },\n    {\n      \"column\": \"PCZone1\",\n      \"properties\": {\n        \"dtype\": \"number\",\n        \"std\": 15078.74101747048,\n        \"min\": 7073.784592102133,\n        \"max\": 52204.39512,\n        \"num_unique_values\": 8,\n        \"samples\": [\n          35272.40077716637,\n          35604.95575,\n          13248.0\n        ],\n        \"semantic_type\": \"\",\n        \"description\": \"\"\n      }\n    },\n    {\n      \"column\": \"PCZone2\",\n      \"properties\": {\n        \"dtype\": \"number\",\n        \"std\": 10153.43904253955,\n        \"min\": 5239.586748422134,\n        \"max\": 37408.86076,\n        \"num_unique_values\": 8,\n        \"samples\": [\n          22976.43099315067,\n          22900.1056,\n          13248.0\n        ],\n        \"semantic_type\": \"\",\n        \"description\": \"\"\n      }\n    },\n    {\n      \"column\": \"PCZone3\",\n      \"properties\": {\n        \"dtype\": \"number\",\n        \"std\": 13054.08824831599,\n        \"min\": 7667.598488205882,\n        \"max\": 47598.32636,\n        \"num_unique_values\": 8,\n        \"samples\": [\n          23544.040815856883,\n          23051.9265,\n          13248.0\n        ],\n        \"semantic_type\": \"\",\n        \"description\": \"\"\n      }\n    }\n  ]\n}"
            }
          },
          "metadata": {},
          "execution_count": 42
        }
      ],
      "source": [
        "# Statistiques de base\n",
        "df.describe()"
      ]
    },
    {
      "cell_type": "code",
      "execution_count": 53,
      "id": "afe0de98",
      "metadata": {
        "colab": {
          "base_uri": "https://localhost:8080/",
          "height": 622
        },
        "id": "afe0de98",
        "outputId": "dc645d0a-53dd-4285-ed6f-f053faee5e61"
      },
      "outputs": [
        {
          "output_type": "display_data",
          "data": {
            "text/plain": [
              "<Figure size 800x600 with 2 Axes>"
            ],
            "image/png": "[encoded data removed]"
          },
          "metadata": {}
        }
      ],
      "source": [
        "# Matrice de corrélation\n",
        "import seaborn as sns\n",
        "import matplotlib.pyplot as plt\n",
        "# Convert 'DateTime' to datetime objects and set as index\n",
        "\n",
        "plt.figure(figsize=(8,6))\n",
        "sns.heatmap(df.corr(), annot=True, cmap='coolwarm')\n",
        "plt.title('Matrice de corrélation')\n",
        "plt.show()"
      ]
    },
    {
      "cell_type": "markdown",
      "id": "be05b1cf",
      "metadata": {
        "id": "be05b1cf"
      },
      "source": [
        "## 3. Analyse en Composantes Principales (PCA)"
      ]
    },
    {
      "cell_type": "code",
      "execution_count": 44,
      "id": "cddb871d",
      "metadata": {
        "colab": {
          "base_uri": "https://localhost:8080/"
        },
        "collapsed": true,
        "id": "cddb871d",
        "outputId": "ebf45f1f-f168-4b8b-c1c7-9d18ca0f7b67"
      },
      "outputs": [
        {
          "output_type": "stream",
          "name": "stdout",
          "text": [
            "Variance expliquée : [0.55489045 0.17926885]\n"
          ]
        }
      ],
      "source": [
        "# Sfrom sklearn.preprocessing import StandardScaler\n",
        "\n",
        "features = ['Temperature', 'Humidity', 'WindSpeed', 'PCZone1', 'PCZone2', 'PCZone3']\n",
        "X = df[features]\n",
        "\n",
        "# Standardisation\n",
        "X_scaled = StandardScaler().fit_transform(X)\n",
        "pca = PCA(n_components=2)\n",
        "principal_components = pca.fit_transform(X_scaled)\n",
        "print(f\"Variance expliquée : {pca.explained_variance_ratio_}\")\n",
        "\n"
      ]
    },
    {
      "cell_type": "markdown",
      "id": "c326ec3b",
      "metadata": {
        "id": "c326ec3b"
      },
      "source": [
        "## 4. Régression linéaire simple"
      ]
    },
    {
      "cell_type": "code",
      "execution_count": 45,
      "id": "2d68cd54",
      "metadata": {
        "colab": {
          "base_uri": "https://localhost:8080/"
        },
        "id": "2d68cd54",
        "outputId": "1af8de93-4767-4ed7-8723-bae68aa34446"
      },
      "outputs": [
        {
          "output_type": "stream",
          "name": "stdout",
          "text": [
            "R² : 0.8525029916006438\n"
          ]
        }
      ],
      "source": [
        "from sklearn.linear_model import LinearRegression\n",
        "\n",
        "X_simple = df[['PCZone2']]\n",
        "y = df['PCZone1']\n",
        "\n",
        "model_simple = LinearRegression()\n",
        "model_simple.fit(X_simple, y)\n",
        "\n",
        "print(f\"R² : {model_simple.score(X_simple, y)}\")"
      ]
    },
    {
      "cell_type": "markdown",
      "id": "d5eb37a9",
      "metadata": {
        "id": "d5eb37a9"
      },
      "source": [
        "## 5. Régression linéaire multiple"
      ]
    },
    {
      "cell_type": "code",
      "execution_count": 46,
      "id": "009aa1b4",
      "metadata": {
        "colab": {
          "base_uri": "https://localhost:8080/"
        },
        "id": "009aa1b4",
        "outputId": "e3487225-7b51-490c-80b1-c97c321b205a"
      },
      "outputs": [
        {
          "output_type": "stream",
          "name": "stdout",
          "text": [
            "R² ajusté : 0.8640085392492175\n"
          ]
        }
      ],
      "source": [
        "X_multi = df[['Temperature', 'Humidity', 'WindSpeed', 'PCZone2', 'PCZone3']]\n",
        "model_multi = LinearRegression()\n",
        "model_multi.fit(X_multi, y)\n",
        "\n",
        "print(f\"R² ajusté : {model_multi.score(X_multi, y)}\")"
      ]
    },
    {
      "cell_type": "markdown",
      "id": "fdc5b097",
      "metadata": {
        "id": "fdc5b097"
      },
      "source": [
        "## 6. Prédiction finale"
      ]
    },
    {
      "cell_type": "code",
      "execution_count": 47,
      "id": "a0d8a125",
      "metadata": {
        "colab": {
          "base_uri": "https://localhost:8080/"
        },
        "id": "a0d8a125",
        "outputId": "ccdf5f1b-52cb-4003-b01a-1fa71346c7c1"
      },
      "outputs": [
        {
          "output_type": "stream",
          "name": "stdout",
          "text": [
            "Consommation prédite pour la Zone 1 : 29802 KW\n"
          ]
        }
      ],
      "source": [
        "# 5 variables pour prédire PCZone1\n",
        "sample = pd.DataFrame([[26, 65, 4.2, 18840, 25700]], columns=[\n",
        "    'Temperature', 'Humidity', 'WindSpeed', 'PCZone2', 'PCZone3'\n",
        "])\n",
        "\n",
        "prediction = model_multi.predict(sample)\n",
        "print(f\"Consommation prédite pour la Zone 1 : {prediction[0]:.0f} KW\")\n"
      ]
    },
    {
      "cell_type": "markdown",
      "id": "471018ba",
      "metadata": {
        "id": "471018ba"
      },
      "source": [
        "## 7. Conclusion\n",
        "\n",
        "Ce notebook résume l'ensemble des traitements réalisés pour comprendre et prédire la consommation énergétique à Tétouan."
      ]
    }
  ],
  "metadata": {
    "colab": {
      "provenance": [],
      "collapsed_sections": [
        "00a7fd99"
      ]
    },
    "language_info": {
      "name": "python"
    },
    "kernelspec": {
      "name": "python3",
      "display_name": "Python 3"
    }
  },
  "nbformat": 4,
  "nbformat_minor": 5
}